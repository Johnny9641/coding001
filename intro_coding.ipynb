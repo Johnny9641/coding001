{
 "cells": [
  {
   "cell_type": "markdown",
   "metadata": {},
   "source": [
    "# Introduction to Coding"
   ]
  },
  {
   "cell_type": "markdown",
   "metadata": {},
   "source": [
    "**OUTPUT**\n",
    "\n",
    "Run the following code by clicking in the cell and pressing Ctrl-Enter (Cmd-Enter):"
   ]
  },
  {
   "cell_type": "code",
   "execution_count": null,
   "metadata": {},
   "outputs": [],
   "source": [
    "print(\"Hello world!\")"
   ]
  },
  {
   "cell_type": "markdown",
   "metadata": {},
   "source": [
    "Try changing the text, try it with single quotes, and without quotes.\n",
    "\n",
    "**INPUT**"
   ]
  },
  {
   "cell_type": "code",
   "execution_count": null,
   "metadata": {},
   "outputs": [],
   "source": [
    "my_name = input(\"What's your name? \")\n",
    "print(\"Hello\", my_name)"
   ]
  },
  {
   "cell_type": "markdown",
   "metadata": {},
   "source": [
    "`my_name` is a variable. Variables are containers that hold data of various types, i.e.: integers, floats, text (strings) & Booleans (True/False)."
   ]
  }
 ],
 "metadata": {
  "kernelspec": {
   "display_name": "Python 3",
   "language": "python",
   "name": "python3"
  },
  "language_info": {
   "name": "python",
   "version": "3.10.7"
  },
  "vscode": {
   "interpreter": {
    "hash": "25ab68ad6c58b34fef94024f7e6650ab948dd8dd611e6b798f05c8942bb3d583"
   }
  }
 },
 "nbformat": 4,
 "nbformat_minor": 2
}
