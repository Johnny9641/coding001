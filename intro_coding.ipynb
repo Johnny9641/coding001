{
 "cells": [
  {
   "cell_type": "markdown",
   "metadata": {},
   "source": [
    "# Introduction to Coding"
   ]
  },
  {
   "cell_type": "markdown",
   "metadata": {},
   "source": [
    "**OUTPUT**\n",
    "\n",
    "Run the following code by clicking in the cell and pressing Ctrl-Enter (Cmd-Enter):"
   ]
  },
  {
   "cell_type": "code",
   "execution_count": null,
   "metadata": {},
   "outputs": [],
   "source": [
    "print(\"Hello world!\")"
   ]
  },
  {
   "cell_type": "markdown",
   "metadata": {},
   "source": [
    "Try changing the text, try it with single quotes, and without quotes.\n",
    "\n",
    "**INPUT**"
   ]
  },
  {
   "cell_type": "code",
   "execution_count": null,
   "metadata": {},
   "outputs": [],
   "source": [
    "my_name = input(\"What's your name? \")\n",
    "print(\"Hello\", my_name)"
   ]
  },
  {
   "cell_type": "markdown",
   "metadata": {},
   "source": [
    "`my_name` is a variable. Variables are containers that hold data of various types, i.e.: integers, floats, text (strings) & Booleans (True/False).\n",
    "\n",
    "**ASSIGNMENT**"
   ]
  },
  {
   "cell_type": "code",
   "execution_count": null,
   "metadata": {},
   "outputs": [],
   "source": [
    "my_age = 35\n",
    "print(my_age)\n",
    "my_age = my_age + 1\n",
    "print(my_age)\n"
   ]
  },
  {
   "cell_type": "markdown",
   "metadata": {},
   "source": [
    "**OPERATORS** \n",
    "\n",
    "`+` Addition, x + y  \n",
    "`-` Subtraction, x - y  \n",
    "`*` Multiplication, x * y  \n",
    "`/` Division, x / y  \n",
    "`**` Exponentiation, x ** y  \n",
    "`%` Modulus, x % y (remainder)  \n",
    "`//` Floor division, x // y (lowest whole number)\n",
    "\n",
    "Try to predict what the output of the following will be:\n"
   ]
  },
  {
   "cell_type": "code",
   "execution_count": null,
   "metadata": {},
   "outputs": [],
   "source": [
    "print(2 + 3 * 6)\n",
    "print(2 * 3.0)\n",
    "print(4 / 2)\n",
    "print(2 ** 1 ** 3) # exponentiation\n",
    "print(9 % 2) # modulus (remainder)\n",
    "print(-9 // 2) # floor division (lowest whole number)\n"
   ]
  },
  {
   "cell_type": "markdown",
   "metadata": {},
   "source": [
    "**INPUT TYPE**"
   ]
  },
  {
   "cell_type": "code",
   "execution_count": null,
   "metadata": {},
   "outputs": [],
   "source": [
    "num_1 = input(\"Enter a number: \")\n",
    "num_2 = input(\"Enter another number: \")\n",
    "print(num_1, '+', num_2, '=', num_1 + num_2)\n"
   ]
  },
  {
   "cell_type": "markdown",
   "metadata": {},
   "source": [
    "Did you get the answer you expected?\n",
    "\n",
    "`input` always returns a string, and `+` joins strings together.\n",
    "\n",
    "However, you can *cast* variables to another type, e.g. using `int()` or `float()`"
   ]
  },
  {
   "cell_type": "code",
   "execution_count": null,
   "metadata": {},
   "outputs": [],
   "source": [
    "num_1 = int(input(\"Enter a number: \"))\n",
    "num_2 = float(input(\"Enter another number: \"))\n",
    "print(num_1, '+', num_2, '=', num_1 + num_2)\n"
   ]
  },
  {
   "cell_type": "markdown",
   "metadata": {},
   "source": [
    "**COMPARISON**\n",
    "\n",
    "`==`  Equal, x == y  \n",
    "`!=`  Not equal, x != y  \n",
    "`>`   Greater than, x > y  \n",
    "`<`   Less than, x < y  \n",
    "`>=`  Greater than or equal to, x >= y  \n",
    "`<=`  Less than or equal to, x <= y  \n"
   ]
  },
  {
   "cell_type": "code",
   "execution_count": null,
   "metadata": {},
   "outputs": [],
   "source": [
    "x = 5\n",
    "print(x<=3, x>4)"
   ]
  },
  {
   "cell_type": "markdown",
   "metadata": {},
   "source": [
    "**CONDITIONALS**"
   ]
  },
  {
   "cell_type": "code",
   "execution_count": null,
   "metadata": {},
   "outputs": [],
   "source": [
    "urgent = input(\"Is your problem urgent? Y/N \")\n",
    "if urgent == 'Y':\n",
    "    print('Call 999 now')\n",
    "else:\n",
    "    print('Call 111')\n"
   ]
  },
  {
   "cell_type": "code",
   "execution_count": null,
   "metadata": {},
   "outputs": [],
   "source": [
    "fbs = float(input(\"Enter your fasting blood sugar in mg/dL: \"))\n",
    "if fbs <= 99:\n",
    "    print(\"That is normal\")\n",
    "elif fbs <= 125:\n",
    "    print(\"That suggests prediabetes\")\n",
    "else:\n",
    "    print(\"That suggests diabetes\")\n"
   ]
  },
  {
   "cell_type": "markdown",
   "metadata": {},
   "source": [
    "**TASK**\n",
    "\n",
    "Write some code that asks the user for their height (m) and weight (kg), calculates their BMI and displays their BMI and status.\n",
    "\n",
    "NB:  \n",
    "&nbsp;&nbsp;BMI = Weight(kg) / Height(m)<sup>2</sup>  \n",
    "&nbsp;&nbsp;BMI < 18.5 Underweight  \n",
    "&nbsp;&nbsp;18.5 <= BMI < 25 Normal  \n",
    "&nbsp;&nbsp;25 <= BMI < 30 Overweight  \n",
    "&nbsp;&nbsp;BMI >= 30 Obese  \n"
   ]
  },
  {
   "cell_type": "code",
   "execution_count": null,
   "metadata": {},
   "outputs": [],
   "source": [
    "# write your code here"
   ]
  },
  {
   "cell_type": "markdown",
   "metadata": {},
   "source": [
    "**LISTS**\n",
    "\n",
    "A list is a data structure in Python that is a mutable, or changeable, ordered sequence of elements. "
   ]
  },
  {
   "cell_type": "code",
   "execution_count": null,
   "metadata": {},
   "outputs": [],
   "source": [
    "my_list = ['London', 'Manchester', 'Edinburgh']\n",
    "print(my_list[2]) # numbering starts at 0\n"
   ]
  },
  {
   "cell_type": "code",
   "execution_count": null,
   "metadata": {},
   "outputs": [],
   "source": [
    "my_list.append('Glasgow') # add Glasgow to end of list\n",
    "print(my_list)\n"
   ]
  },
  {
   "cell_type": "code",
   "execution_count": null,
   "metadata": {},
   "outputs": [],
   "source": [
    "my_list.insert(2, 'Liverpool') # insert Liverpool in position 2\n",
    "print(my_list)\n"
   ]
  },
  {
   "cell_type": "code",
   "execution_count": null,
   "metadata": {},
   "outputs": [],
   "source": [
    "del my_list[1] # delete item at index 1\n",
    "print(my_list)\n"
   ]
  },
  {
   "cell_type": "code",
   "execution_count": null,
   "metadata": {},
   "outputs": [],
   "source": [
    "my_list.remove('Edinburgh') # remove first match\n",
    "print(my_list)\n"
   ]
  },
  {
   "cell_type": "markdown",
   "metadata": {},
   "source": [
    "**FOR LOOPS**\n",
    "\n",
    "**for** loops are used to execute a block of code a fixed number of times."
   ]
  },
  {
   "cell_type": "code",
   "execution_count": null,
   "metadata": {},
   "outputs": [],
   "source": [
    "for i in range(11): # range starts at 0, excludes 11\n",
    "    print(i, \"squared =\", i**2)\n"
   ]
  },
  {
   "cell_type": "code",
   "execution_count": null,
   "metadata": {},
   "outputs": [],
   "source": [
    "cities = ['London', 'Manchester', 'Birmingham', 'Leeds']\n",
    "for city in cities:\n",
    "    print(city)\n"
   ]
  },
  {
   "cell_type": "markdown",
   "metadata": {},
   "source": [
    "**WHILE LOOPS**\n",
    "\n",
    "**while** loops execute a block of code as long as a condition is true."
   ]
  },
  {
   "cell_type": "code",
   "execution_count": null,
   "metadata": {},
   "outputs": [],
   "source": [
    "guests = []\n",
    "guest = \"\"\n",
    "while guest != \"X\":\n",
    "    guest = input('Enter guest or \"X\" to exit: ')\n",
    "    if guest != 'X':\n",
    "        guests.append(guest)\n",
    "print (guests)\n"
   ]
  },
  {
   "cell_type": "markdown",
   "metadata": {},
   "source": [
    "**TASK**\n",
    "\n",
    "This code uses Python's random module to generate a random number between 1 & 6:\n"
   ]
  },
  {
   "cell_type": "code",
   "execution_count": null,
   "metadata": {},
   "outputs": [],
   "source": [
    "import random\n",
    "my_num = random.randrange(1,7)\n",
    "print(my_num)"
   ]
  },
  {
   "cell_type": "markdown",
   "metadata": {},
   "source": [
    "Code a guessing game that chooses a random integer and repeatedly asks the user to guess it. When the number is guessed, tell the user how many tries it took."
   ]
  },
  {
   "cell_type": "code",
   "execution_count": null,
   "metadata": {},
   "outputs": [],
   "source": [
    "# write your code here"
   ]
  }
 ],
 "metadata": {
  "kernelspec": {
   "display_name": "Python 3",
   "language": "python",
   "name": "python3"
  },
  "language_info": {
   "name": "python",
   "version": "3.10.7"
  },
  "vscode": {
   "interpreter": {
    "hash": "25ab68ad6c58b34fef94024f7e6650ab948dd8dd611e6b798f05c8942bb3d583"
   }
  }
 },
 "nbformat": 4,
 "nbformat_minor": 2
}
